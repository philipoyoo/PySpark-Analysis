{
 "cells": [
  {
   "cell_type": "code",
   "execution_count": 19,
   "metadata": {},
   "outputs": [],
   "source": [
    "# Load multiple data files into pyspark\n",
    "# Do some quick Aggregate analysis"
   ]
  },
  {
   "cell_type": "code",
   "execution_count": 20,
   "metadata": {
    "id": "PjupgzfTnIkY",
    "outputId": "4fa274ae-5547-4966-97c2-124787cbeab4"
   },
   "outputs": [
    {
     "data": {
      "text/plain": [
       "datetime.datetime(2021, 8, 17, 21, 7, 43, 258505)"
      ]
     },
     "execution_count": 20,
     "metadata": {},
     "output_type": "execute_result"
    }
   ],
   "source": [
    "# Import time library, that will be used for timining the code execurion times\n",
    "import datetime\n",
    "now = datetime.datetime.now()\n",
    "now"
   ]
  },
  {
   "cell_type": "code",
   "execution_count": 21,
   "metadata": {
    "id": "FA9Xq-JQnIku"
   },
   "outputs": [],
   "source": [
    "#Create a spark session\n",
    "\n",
    "from pyspark.sql import SparkSession\n",
    "from pyspark.sql import functions as sf\n",
    "spark= SparkSession.builder.appName('scan').getOrCreate()\n",
    "from functools import reduce  # For Python 3.x\n",
    "from pyspark.sql import DataFrame\n"
   ]
  },
  {
   "cell_type": "code",
   "execution_count": 22,
   "metadata": {
    "id": "-FN3WggqnIlO"
   },
   "outputs": [
    {
     "name": "stdout",
     "output_type": "stream",
     "text": [
      "Complete\n"
     ]
    }
   ],
   "source": [
    "#Import the data from ts location\n",
    "\n",
    "df=spark.read.csv(r'C:\\Users\\phili\\OneDrive\\Desktop\\Contracts Project\\FY2017_All_Contracts_Full_20210809_1.csv',\\\n",
    "                  inferSchema=True,header=True)\n",
    "df1=spark.read.csv(r'C:\\Users\\phili\\OneDrive\\Desktop\\Contracts Project\\FY2017_All_Contracts_Full_20210809_2.csv',\\\n",
    "                  inferSchema=True,header=True)\n",
    "df2=spark.read.csv(r'C:\\Users\\phili\\OneDrive\\Desktop\\Contracts Project\\FY2017_All_Contracts_Full_20210809_3.csv',\\\n",
    "                  inferSchema=True,header=True)\n",
    "df3=spark.read.csv(r'C:\\Users\\phili\\OneDrive\\Desktop\\Contracts Project\\FY2017_All_Contracts_Full_20210809_4.csv',\\\n",
    "                  inferSchema=True,header=True)\n",
    "df4=spark.read.csv(r'C:\\Users\\phili\\OneDrive\\Desktop\\Contracts Project\\FY2017_All_Contracts_Full_20210809_5.csv',\\\n",
    "                  inferSchema=True,header=True)\n",
    "\n",
    "# ################################################################\n",
    "df5=spark.read.csv(r'C:\\Users\\phili\\OneDrive\\Desktop\\Contracts Project\\FY2018_All_Contracts_Full_20210809_1.csv',\\\n",
    "                  inferSchema=True,header=True)\n",
    "df6=spark.read.csv(r'C:\\Users\\phili\\OneDrive\\Desktop\\Contracts Project\\FY2018_All_Contracts_Full_20210809_2.csv',\\\n",
    "                  inferSchema=True,header=True)\n",
    "df7=spark.read.csv(r'C:\\Users\\phili\\OneDrive\\Desktop\\Contracts Project\\FY2018_All_Contracts_Full_20210809_3.csv',\\\n",
    "                  inferSchema=True,header=True)\n",
    "df8=spark.read.csv(r'C:\\Users\\phili\\OneDrive\\Desktop\\Contracts Project\\FY2018_All_Contracts_Full_20210809_4.csv',\\\n",
    "                  inferSchema=True,header=True)\n",
    "df9=spark.read.csv(r'C:\\Users\\phili\\OneDrive\\Desktop\\Contracts Project\\FY2018_All_Contracts_Full_20210809_5.csv',\\\n",
    "                  inferSchema=True,header=True)\n",
    "df10=spark.read.csv(r'C:\\Users\\phili\\OneDrive\\Desktop\\Contracts Project\\FY2018_All_Contracts_Full_20210809_6.csv',\\\n",
    "                  inferSchema=True,header=True)\n",
    "# ##################################################################\n",
    "df11=spark.read.csv(r'C:\\Users\\phili\\OneDrive\\Desktop\\Contracts Project\\FY2019_All_Contracts_Full_20210809_1.csv',\\\n",
    "                  inferSchema=True,header=True)\n",
    "df12=spark.read.csv(r'C:\\Users\\phili\\OneDrive\\Desktop\\Contracts Project\\FY2018_All_Contracts_Full_20210809_2.csv',\\\n",
    "                  inferSchema=True,header=True)\n",
    "df13=spark.read.csv(r'C:\\Users\\phili\\OneDrive\\Desktop\\Contracts Project\\FY2018_All_Contracts_Full_20210809_3.csv',\\\n",
    "                  inferSchema=True,header=True)\n",
    "df14=spark.read.csv(r'C:\\Users\\phili\\OneDrive\\Desktop\\Contracts Project\\FY2018_All_Contracts_Full_20210809_4.csv',\\\n",
    "                  inferSchema=True,header=True)\n",
    "df15=spark.read.csv(r'C:\\Users\\phili\\OneDrive\\Desktop\\Contracts Project\\FY2018_All_Contracts_Full_20210809_5.csv',\\\n",
    "                  inferSchema=True,header=True)\n",
    "df16=spark.read.csv(r'C:\\Users\\phili\\OneDrive\\Desktop\\Contracts Project\\FY2018_All_Contracts_Full_20210809_6.csv',\\\n",
    "                  inferSchema=True,header=True)\n",
    "# ####################################################333333\n",
    "\n",
    "df18=spark.read.csv(r'C:\\Users\\phili\\OneDrive\\Desktop\\Contracts Project\\FY2020_All_Contracts_Full_20210809_1.csv',\\\n",
    "                  inferSchema=True,header=True)\n",
    "df19=spark.read.csv(r'C:\\Users\\phili\\OneDrive\\Desktop\\Contracts Project\\FY2020_All_Contracts_Full_20210809_2.csv',\\\n",
    "                  inferSchema=True,header=True)\n",
    "df20=spark.read.csv(r'C:\\Users\\phili\\OneDrive\\Desktop\\Contracts Project\\FY2020_All_Contracts_Full_20210809_3.csv',\\\n",
    "                  inferSchema=True,header=True)\n",
    "df21=spark.read.csv(r'C:\\Users\\phili\\OneDrive\\Desktop\\Contracts Project\\FY2020_All_Contracts_Full_20210809_4.csv',\\\n",
    "                  inferSchema=True,header=True)\n",
    "df22=spark.read.csv(r'C:\\Users\\phili\\OneDrive\\Desktop\\Contracts Project\\FY2020_All_Contracts_Full_20210809_5.csv',\\\n",
    "                  inferSchema=True,header=True)\n",
    "df23=spark.read.csv(r'C:\\Users\\phili\\OneDrive\\Desktop\\Contracts Project\\FY2020_All_Contracts_Full_20210809_6.csv',\\\n",
    "                  inferSchema=True,header=True)\n",
    "df24=spark.read.csv(r'C:\\Users\\phili\\OneDrive\\Desktop\\Contracts Project\\FY2020_All_Contracts_Full_20210809_7.csv',\\\n",
    "                  inferSchema=True,header=True)\n",
    "print(\"Complete\")"
   ]
  },
  {
   "cell_type": "code",
   "execution_count": 23,
   "metadata": {
    "id": "PjeAWXRYnIlh",
    "outputId": "05a7d7d2-cf5a-411e-90da-d71855b07d6a",
    "scrolled": true
   },
   "outputs": [
    {
     "name": "stdout",
     "output_type": "stream",
     "text": [
      "(22428531, 282)\n"
     ]
    }
   ],
   "source": [
    "#dMerge several dataframes\n",
    "\n",
    "dfs = [df, df1,df2,df3,df4,df5,df6,\\\n",
    "       df7,df8,df9,df10,\\\n",
    "       df11,df12,\\\n",
    "       df13,df14,df15,df16,df18,\n",
    "       df19,df20,df21,df22,df23,df24,\\\n",
    "      ]\n",
    "df = reduce(DataFrame.unionAll, dfs)\n",
    "print((df.count(), len(df.columns)))"
   ]
  },
  {
   "cell_type": "code",
   "execution_count": 24,
   "metadata": {},
   "outputs": [
    {
     "name": "stdout",
     "output_type": "stream",
     "text": [
      "+-------+-----------------------+\n",
      "|summary|total_dollars_obligated|\n",
      "+-------+-----------------------+\n",
      "|  count|               20936420|\n",
      "|   mean|       8211513.80184267|\n",
      "| stddev|    2.833348088627752E8|\n",
      "|    min|        -4.5870274953E8|\n",
      "|    max|      4.809010570994E10|\n",
      "+-------+-----------------------+\n",
      "\n"
     ]
    }
   ],
   "source": [
    "# View the break out of the dataframe\n",
    "df.describe(['total_dollars_obligated']).show()"
   ]
  },
  {
   "cell_type": "code",
   "execution_count": 29,
   "metadata": {},
   "outputs": [
    {
     "name": "stdout",
     "output_type": "stream",
     "text": [
      "+-----------------------+----------------------------+\n",
      "|action_date_fiscal_year|sum(total_dollars_obligated)|\n",
      "+-----------------------+----------------------------+\n",
      "|                   2018|        9.097533434082916E13|\n",
      "|                   2019|         7.62104145161314E12|\n",
      "|                   2020|        4.560151884440803E13|\n",
      "|                   2017|        2.772180715432475...|\n",
      "+-----------------------+----------------------------+\n",
      "\n"
     ]
    }
   ],
   "source": [
    "\n",
    "# Group total sum of obligations by Agency\n",
    "yr_data = df.groupBy('action_date_fiscal_year')\n",
    "yr_data.agg({'total_dollars_obligated':'sum'}).show()"
   ]
  },
  {
   "cell_type": "code",
   "execution_count": 25,
   "metadata": {},
   "outputs": [
    {
     "name": "stdout",
     "output_type": "stream",
     "text": [
      "+------------------------+----------------------------+\n",
      "|parent_award_agency_name|sum(total_dollars_obligated)|\n",
      "+------------------------+----------------------------+\n",
      "|    RURAL HOUSING SER...|              9.1935572929E8|\n",
      "|    OFFICE OF CHIEF F...|                         0.0|\n",
      "|    SUBSTANCE ABUSE A...|             3.10927946486E9|\n",
      "|    OFFICE OF SURFACE...|          4006695.8100000005|\n",
      "|    HOUSING AND URBAN...|        3.0027973780200005E9|\n",
      "|    FEDERAL LAW ENFOR...|        2.2132231841000006E8|\n",
      "|    PRESIDENT'S COMMI...|                   273100.36|\n",
      "|    U.S. CUSTOMS AND ...|        2.074868458430003E10|\n",
      "|    AGRICULTURAL RESE...|         5.341922063399999E8|\n",
      "|    BROADCASTING BOAR...|                     8288.75|\n",
      "|    USDA, DEPARTMENTA...|         5.119533170129999E9|\n",
      "|    OFFICE OF THE ADM...|        2.6836834219999995E7|\n",
      "|    FEDERAL ENERGY RE...|        2.7202013130000003E7|\n",
      "|    AGENCY FOR HEALTH...|        1.8795086707499995E9|\n",
      "|    UNITED STATES INT...|              2.1461211934E8|\n",
      "|    NATIONAL ARCHIVES...|        2.3885351782000002E8|\n",
      "|    BUREAU OF SAFETY ...|         7.531557865900005E8|\n",
      "|    NATIONAL INSTITUT...|           3.176291546475E11|\n",
      "|    FEDERAL TRADE COM...|        2.4500384207999998E8|\n",
      "|    FEDERAL ELECTION ...|         4.803680205999999E7|\n",
      "+------------------------+----------------------------+\n",
      "only showing top 20 rows\n",
      "\n"
     ]
    }
   ],
   "source": [
    "# Group total sum of obligations by Agency\n",
    "group_data = df.groupBy(\"parent_award_agency_name\")\n",
    "group_data.agg({'total_dollars_obligated':'sum'}).show()"
   ]
  },
  {
   "cell_type": "code",
   "execution_count": 26,
   "metadata": {},
   "outputs": [
    {
     "name": "stdout",
     "output_type": "stream",
     "text": [
      "+-------------------+----------------------------+\n",
      "|         award_type|sum(total_dollars_obligated)|\n",
      "+-------------------+----------------------------+\n",
      "|              AWARD|                    10584.36|\n",
      "|     DELIVERY ORDER|        1.440810645479085E13|\n",
      "|           BPA CALL|        6.956684934400599E11|\n",
      "|               null|        2.355182764499481E12|\n",
      "|                  B|          1236224.6899999997|\n",
      "|                  C|         5.184817508000002E7|\n",
      "|                  A|                    516398.5|\n",
      "|     PURCHASE ORDER|        1.976527197031899...|\n",
      "|DEFINITIVE CONTRACT|        1.542630377473585...|\n",
      "+-------------------+----------------------------+\n",
      "\n"
     ]
    }
   ],
   "source": [
    "# Group total sum of award_types by Agency\n",
    "award_type_data = df.groupBy(\"award_type\")\n",
    "award_type_data.agg({'total_dollars_obligated':'sum'}).show()"
   ]
  },
  {
   "cell_type": "code",
   "execution_count": 27,
   "metadata": {},
   "outputs": [
    {
     "name": "stdout",
     "output_type": "stream",
     "text": [
      "+---------------------------------------+-------------------+----------------------------+\n",
      "|primary_place_of_performance_state_name|         award_type|sum(total_dollars_obligated)|\n",
      "+---------------------------------------+-------------------+----------------------------+\n",
      "|                          MASSACHUSETTS|DEFINITIVE CONTRACT|         1.19956784108501E12|\n",
      "|                               NEBRASKA|     PURCHASE ORDER|        5.0934251465999997E8|\n",
      "|                         AMERICAN SAMOA|     DELIVERY ORDER|         5.180105212000002E7|\n",
      "|                                 HAWAII|     PURCHASE ORDER|         2.991513433110002E9|\n",
      "|                               NEW YORK|     PURCHASE ORDER|         6.132647423490002E9|\n",
      "|                          NEW HAMPSHIRE|DEFINITIVE CONTRACT|           4.504096960375E10|\n",
      "|                                 HAWAII|DEFINITIVE CONTRACT|        2.162317924507198...|\n",
      "|                                 ALASKA|DEFINITIVE CONTRACT|           1.792659478089E11|\n",
      "|                                   null|              AWARD|                    10584.36|\n",
      "|                               KENTUCKY|DEFINITIVE CONTRACT|        7.265157652743571E12|\n",
      "|                              WISCONSIN|     DELIVERY ORDER|        1.016750229717699...|\n",
      "|                                   OHIO|     PURCHASE ORDER|         6.449779125040008E9|\n",
      "|                          WEST VIRGINIA|DEFINITIVE CONTRACT|        6.824468312254996E10|\n",
      "|                                  TEXAS|           BPA CALL|             8.06593826845E9|\n",
      "|                                   OHIO|DEFINITIVE CONTRACT|          3.2213929745134E11|\n",
      "|                                   null|     DELIVERY ORDER|        1.853053572847669...|\n",
      "|                                   null|           BPA CALL|              4.1401515243E9|\n",
      "|                                 OREGON|     PURCHASE ORDER|        1.1670447368100004E9|\n",
      "|                                 NEVADA|DEFINITIVE CONTRACT|        3.411664577664499...|\n",
      "|                                ALABAMA|           BPA CALL|        2.192340371551302E11|\n",
      "+---------------------------------------+-------------------+----------------------------+\n",
      "only showing top 20 rows\n",
      "\n"
     ]
    }
   ],
   "source": [
    "\n",
    "# Group total sum of award_types by Agency\n",
    "state_data = df.groupBy(['primary_place_of_performance_state_name','award_type'])\n",
    "state_data.agg({'total_dollars_obligated':'sum'}).show()"
   ]
  },
  {
   "cell_type": "code",
   "execution_count": 28,
   "metadata": {},
   "outputs": [
    {
     "name": "stdout",
     "output_type": "stream",
     "text": [
      "+-----------+----------------------------+\n",
      "|action_date|sum(total_dollars_obligated)|\n",
      "+-----------+----------------------------+\n",
      "| 2017-05-14|         6.668585442999996E7|\n",
      "| 2017-12-05|        2.264658679185192E11|\n",
      "| 2019-08-23|        1.237815305705999...|\n",
      "| 2019-08-22|        1.561653268182472...|\n",
      "| 2020-02-26|        2.089421666311401E11|\n",
      "| 2020-04-13|        1.793271385921901E11|\n",
      "| 2017-05-11|        4.603562497680001E10|\n",
      "| 2017-02-24|        1.337859221219999...|\n",
      "| 2017-12-22|        5.554737767873198E11|\n",
      "| 2017-10-20|        4.332346780412996E11|\n",
      "| 2019-09-29|        1.689627610764004E10|\n",
      "| 2019-08-31|        1.7322632564300017E9|\n",
      "| 2020-06-24|        2.542139774505399E11|\n",
      "| 2018-08-23|        2.198629111130695...|\n",
      "| 2018-04-11|        2.855984093672997...|\n",
      "| 2020-06-08|        9.479718535194003E10|\n",
      "| 2020-09-12|        1.8172390918799994E9|\n",
      "| 2017-08-18|        1.451697488642906E11|\n",
      "| 2018-05-15|        4.005299186081800...|\n",
      "| 2018-03-16|        3.899417850180986E11|\n",
      "+-----------+----------------------------+\n",
      "only showing top 20 rows\n",
      "\n"
     ]
    },
    {
     "ename": "AttributeError",
     "evalue": "'GroupedData' object has no attribute 'toPandas'",
     "output_type": "error",
     "traceback": [
      "\u001b[1;31m---------------------------------------------------------------------------\u001b[0m",
      "\u001b[1;31mAttributeError\u001b[0m                            Traceback (most recent call last)",
      "\u001b[1;32m<ipython-input-28-5844960037ff>\u001b[0m in \u001b[0;36m<module>\u001b[1;34m\u001b[0m\n\u001b[0;32m      1\u001b[0m \u001b[0mdate_data\u001b[0m \u001b[1;33m=\u001b[0m \u001b[0mdf\u001b[0m\u001b[1;33m.\u001b[0m\u001b[0mgroupBy\u001b[0m\u001b[1;33m(\u001b[0m\u001b[1;33m[\u001b[0m\u001b[1;34m'action_date'\u001b[0m\u001b[1;33m]\u001b[0m\u001b[1;33m)\u001b[0m\u001b[1;33m\u001b[0m\u001b[1;33m\u001b[0m\u001b[0m\n\u001b[0;32m      2\u001b[0m \u001b[0mdate_data\u001b[0m\u001b[1;33m.\u001b[0m\u001b[0magg\u001b[0m\u001b[1;33m(\u001b[0m\u001b[1;33m{\u001b[0m\u001b[1;34m'total_dollars_obligated'\u001b[0m\u001b[1;33m:\u001b[0m\u001b[1;34m'sum'\u001b[0m\u001b[1;33m}\u001b[0m\u001b[1;33m)\u001b[0m\u001b[1;33m.\u001b[0m\u001b[0mshow\u001b[0m\u001b[1;33m(\u001b[0m\u001b[1;33m)\u001b[0m\u001b[1;33m\u001b[0m\u001b[1;33m\u001b[0m\u001b[0m\n\u001b[1;32m----> 3\u001b[1;33m \u001b[0mresult\u001b[0m \u001b[1;33m=\u001b[0m \u001b[0mdate_data\u001b[0m\u001b[1;33m.\u001b[0m\u001b[0mtoPandas\u001b[0m\u001b[1;33m(\u001b[0m\u001b[1;33m)\u001b[0m\u001b[1;33m\u001b[0m\u001b[1;33m\u001b[0m\u001b[0m\n\u001b[0m",
      "\u001b[1;31mAttributeError\u001b[0m: 'GroupedData' object has no attribute 'toPandas'"
     ]
    }
   ],
   "source": [
    "\n",
    "date_data = df.groupBy(['action_date'])\n",
    "date_data.agg({'total_dollars_obligated':'sum'}).show()\n"
   ]
  }
 ],
 "metadata": {
  "colab": {
   "name": "PySpark Kmeans.ipynb",
   "provenance": []
  },
  "kernelspec": {
   "display_name": "Python 3",
   "language": "python",
   "name": "python3"
  },
  "language_info": {
   "codemirror_mode": {
    "name": "ipython",
    "version": 3
   },
   "file_extension": ".py",
   "mimetype": "text/x-python",
   "name": "python",
   "nbconvert_exporter": "python",
   "pygments_lexer": "ipython3",
   "version": "3.8.5"
  }
 },
 "nbformat": 4,
 "nbformat_minor": 1
}
